{
 "cells": [
  {
   "attachments": {},
   "cell_type": "markdown",
   "id": "123456",
   "metadata": {},
   "source": [
    "<div style=\"text-align:left;font-size:2em\"><span style=\"font-weight:bolder;font-size:1.25em\">SP2273 | Learning Portfolio</span><br><br><span style=\"font-weight:bold;color:darkred\">Using Jupyter (Need)</span></div>"
   ]
  },
  {
   "attachments": {},
   "cell_type": "markdown",
   "id": "123456",
   "metadata": {},
   "source": [
    "# What to expect in this chapter"
   ]
  },
  {
   "attachments": {},
   "cell_type": "markdown",
   "id": "123456",
   "metadata": {},
   "source": [
    "# 1 Getting ready"
   ]
  },
  {
   "attachments": {},
   "cell_type": "markdown",
   "id": "123456",
   "metadata": {},
   "source": [
    "# 2 Getting started with Jupyter"
   ]
  },
  {
   "attachments": {},
   "cell_type": "markdown",
   "id": "123456",
   "metadata": {},
   "source": [
    "## 2.1 It is all about running cells"
   ]
  },
  {
   "attachments": {},
   "cell_type": "markdown",
   "id": "123456",
   "metadata": {},
   "source": [
    "## 2.2 A traditional start"
   ]
  },
  {
   "cell_type": "code",
   "execution_count": 1,
   "id": "047c2064",
   "metadata": {},
   "outputs": [
    {
     "name": "stdout",
     "output_type": "stream",
     "text": [
      "Hello Hello Hello Hello Hello Hello Hello Hello Hello Hello \n"
     ]
    }
   ],
   "source": [
    "print(\"Hello \"*10)"
   ]
  },
  {
   "attachments": {},
   "cell_type": "markdown",
   "id": "123456",
   "metadata": {},
   "source": [
    "# 3 All about Markdown"
   ]
  },
  {
   "cell_type": "markdown",
   "id": "4499eb95",
   "metadata": {},
   "source": [
    "# Heading\n",
    "\n",
    "*testttingggg*\n",
    "\n",
    "**ahaha**\n",
    "\n",
    "^[haha]\n",
    "\n",
    "### LOOOOOL"
   ]
  },
  {
   "attachments": {},
   "cell_type": "markdown",
   "id": "123456",
   "metadata": {},
   "source": [
    "## 3.1 Rendering Markdown cells"
   ]
  },
  {
   "cell_type": "markdown",
   "id": "4b5fa254",
   "metadata": {},
   "source": [
    "The ships *hung in the sky* in much the same way that **bricks don’t.** <sup></sup><sub>QUOTE</sub>\n",
    "\n"
   ]
  },
  {
   "attachments": {},
   "cell_type": "markdown",
   "id": "123456",
   "metadata": {},
   "source": [
    "## 3.2 Some basic syntax"
   ]
  },
  {
   "attachments": {},
   "cell_type": "markdown",
   "id": "123456",
   "metadata": {},
   "source": [
    "## 3.3 Headings"
   ]
  },
  {
   "attachments": {},
   "cell_type": "markdown",
   "id": "123456",
   "metadata": {},
   "source": [
    "## 3.4 Displaying Code"
   ]
  },
  {
   "attachments": {},
   "cell_type": "markdown",
   "id": "123456",
   "metadata": {},
   "source": [
    "## 3.5 Links"
   ]
  },
  {
   "cell_type": "markdown",
   "id": "92a28332",
   "metadata": {},
   "source": [
    "[SP 2273 Website](https://sps.nus.edu.sg/sp2273)"
   ]
  },
  {
   "attachments": {},
   "cell_type": "markdown",
   "id": "123456",
   "metadata": {},
   "source": [
    "## 3.6 Images"
   ]
  },
  {
   "cell_type": "markdown",
   "id": "5a2d09e0",
   "metadata": {},
   "source": [
    "![](https://nus.edu.sg/images/default-source/base/logo.png)"
   ]
  },
  {
   "attachments": {},
   "cell_type": "markdown",
   "id": "123456",
   "metadata": {},
   "source": [
    "## 3.7 Tables"
   ]
  },
  {
   "cell_type": "markdown",
   "id": "40ccb646",
   "metadata": {},
   "source": [
    "|A | B | C|\n",
    "| :--- | :--: | --:|\n",
    "|aa  |bb | cc"
   ]
  },
  {
   "attachments": {},
   "cell_type": "markdown",
   "id": "123456",
   "metadata": {},
   "source": [
    "## 3.8 Lists"
   ]
  },
  {
   "cell_type": "markdown",
   "id": "9e13a869",
   "metadata": {},
   "source": [
    "1. master yoda\n",
    "1. luke skywalker\n",
    "1. anakin skywalker"
   ]
  },
  {
   "cell_type": "markdown",
   "id": "bcd54999",
   "metadata": {},
   "source": [
    "- master\n",
    "- lulle\n",
    "- analin"
   ]
  },
  {
   "cell_type": "markdown",
   "id": "7536380e",
   "metadata": {},
   "source": [
    "1. yoda\n",
    "    1. jedi\n",
    "    2. green\n",
    "1. luke \n",
    "    1. jedi\n",
    "    1. son\n"
   ]
  },
  {
   "attachments": {},
   "cell_type": "markdown",
   "id": "123456",
   "metadata": {},
   "source": [
    "\n",
    "## 3.9 Equations"
   ]
  },
  {
   "cell_type": "markdown",
   "id": "d9a6b765",
   "metadata": {},
   "source": [
    "$$\n",
    "x = \\dfrac{-b \\pm \\sqrt{b^2-4ac}}{2a}\n",
    "$$"
   ]
  },
  {
   "attachments": {},
   "cell_type": "markdown",
   "id": "123456",
   "metadata": {},
   "source": [
    "<sub><sup>Footnotes</sub></sub>"
   ]
  },
  {
   "cell_type": "markdown",
   "id": "4087b932",
   "metadata": {},
   "source": [
    "<sup><sub>\n",
    "1. You and I willhave problems if you do not know about **The Hitchhiker's Guide to the Galaxy.[$\\leftarrow$](https://sps.nus.edu.sg/python/docs/python_basics/01_using_jupyter/1_using-jupyter_need.html#fnref1)**\n",
    "2. that youa re using Windows. [$\\leftarrow$](https://sps.nus.edu.sg/python/docs/python_basics/01_using_jupyter/1_using-jupyter_need.html#fnref3) \n",
    "3. **especially** with doubly annoying software like Word [$\\leftarrow$](https://sps.nus.edu.sg/python/docs/python_basics/01_using_jupyter/1_using-jupyter_need.html#fnref3)\n",
    "</sup></sub>"
   ]
  },
  {
   "cell_type": "markdown",
   "id": "6258e4fd",
   "metadata": {},
   "source": []
  }
 ],
 "metadata": {
  "kernelspec": {
   "display_name": "base",
   "language": "python",
   "name": "python3"
  },
  "language_info": {
   "codemirror_mode": {
    "name": "ipython",
    "version": 3
   },
   "file_extension": ".py",
   "mimetype": "text/x-python",
   "name": "python",
   "nbconvert_exporter": "python",
   "pygments_lexer": "ipython3",
   "version": "3.13.5"
  },
  "toc": {
   "base_numbering": 1,
   "nav_menu": {},
   "number_sections": true,
   "sideBar": true,
   "skip_h1_title": false,
   "title_cell": "Table of Contents",
   "title_sidebar": "Contents",
   "toc_cell": false,
   "toc_position": {},
   "toc_section_display": true,
   "toc_window_display": false
  }
 },
 "nbformat": 4,
 "nbformat_minor": 5
}
