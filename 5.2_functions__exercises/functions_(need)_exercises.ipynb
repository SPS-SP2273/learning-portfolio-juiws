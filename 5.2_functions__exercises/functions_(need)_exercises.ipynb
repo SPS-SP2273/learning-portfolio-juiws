{
 "cells": [
  {
   "attachments": {},
   "cell_type": "markdown",
   "id": "123456",
   "metadata": {},
   "source": [
    "<div style=\"text-align:left;font-size:2em\"><span style=\"font-weight:bolder;font-size:1.25em\">SP2273 | Learning Portfolio</span><br><br><span style=\"font-weight:bold;color:darkred\">Functions (Need) Exercises</span></div>"
   ]
  },
  {
   "cell_type": "markdown",
   "id": "8c306578",
   "metadata": {},
   "source": [
    "because theres return after the block of if"
   ]
  },
  {
   "cell_type": "code",
   "execution_count": 4,
   "id": "a5abb03a",
   "metadata": {},
   "outputs": [
    {
     "data": {
      "text/plain": [
       "'Obese'"
      ]
     },
     "execution_count": 4,
     "metadata": {},
     "output_type": "execute_result"
    }
   ],
   "source": [
    "def calculate_bmi(weight, height):\n",
    "    BMI = weight/ (height**2)\n",
    "    if BMI < 18.5:\n",
    "        return \"BMI underweight\"\n",
    "    elif BMI < 25.0:\n",
    "        return \"BMI Normal Weight\"\n",
    "    elif BMI < 30.0:\n",
    "        return \"BMI 30.0\"\n",
    "    return \"Obese\"\n",
    "\n",
    "weight = 90\n",
    "height = 1.5\n",
    "calculate_bmi(90, 1.5)"
   ]
  },
  {
   "cell_type": "code",
   "execution_count": 7,
   "id": "41669bea",
   "metadata": {},
   "outputs": [
    {
     "ename": "AssertionError",
     "evalue": "n is becoming negative!",
     "output_type": "error",
     "traceback": [
      "\u001b[31m---------------------------------------------------------------------------\u001b[39m",
      "\u001b[31mAssertionError\u001b[39m                            Traceback (most recent call last)",
      "\u001b[36mCell\u001b[39m\u001b[36m \u001b[39m\u001b[32mIn[7]\u001b[39m\u001b[32m, line 13\u001b[39m\n\u001b[32m      9\u001b[39m             fact_i *=i\n\u001b[32m     10\u001b[39m         \u001b[38;5;28;01mreturn\u001b[39;00m fact_i\n\u001b[32m---> \u001b[39m\u001b[32m13\u001b[39m factorial(-\u001b[32m5\u001b[39m)\n",
      "\u001b[36mCell\u001b[39m\u001b[36m \u001b[39m\u001b[32mIn[7]\u001b[39m\u001b[32m, line 2\u001b[39m, in \u001b[36mfactorial\u001b[39m\u001b[34m(n)\u001b[39m\n\u001b[32m      1\u001b[39m \u001b[38;5;28;01mdef\u001b[39;00m\u001b[38;5;250m \u001b[39m\u001b[34mfactorial\u001b[39m(n):\n\u001b[32m----> \u001b[39m\u001b[32m2\u001b[39m     \u001b[38;5;28;01massert\u001b[39;00m n>= \u001b[32m0\u001b[39m, \u001b[33m\"\u001b[39m\u001b[33mn is becoming negative!\u001b[39m\u001b[33m\"\u001b[39m\n\u001b[32m      4\u001b[39m     \u001b[38;5;28;01mif\u001b[39;00m n == \u001b[32m0\u001b[39m:\n\u001b[32m      5\u001b[39m         \u001b[38;5;28;01mreturn\u001b[39;00m \u001b[32m0\u001b[39m\n",
      "\u001b[31mAssertionError\u001b[39m: n is becoming negative!"
     ]
    }
   ],
   "source": [
    "def factorial(n):\n",
    "    assert n>= 0, \"n is becoming negative!\"\n",
    "\n",
    "    if n == 0:\n",
    "        return 0\n",
    "    else:\n",
    "        fact_i = 1\n",
    "        for i in range(1, n+1):\n",
    "            fact_i *=i\n",
    "        return fact_i\n",
    "    \n",
    "    \n",
    "factorial(-5)\n"
   ]
  },
  {
   "cell_type": "code",
   "execution_count": null,
   "id": "2462d629",
   "metadata": {},
   "outputs": [
    {
     "ename": "AssertionError",
     "evalue": "n is becoming negative!",
     "output_type": "error",
     "traceback": [
      "\u001b[31m---------------------------------------------------------------------------\u001b[39m\n",
      "\u001b[31mAssertionError\u001b[39m                            Traceback (most recent call last)\n",
      "\u001b[36mCell\u001b[39m\u001b[36m \u001b[39m\u001b[32mIn[7]\u001b[39m\u001b[32m, line 13\u001b[39m\n",
      "\u001b[32m      9\u001b[39m             fact_i *=i\n",
      "\u001b[32m     10\u001b[39m         \u001b[38;5;28;01mreturn\u001b[39;00m fact_i\n",
      "\u001b[32m---> \u001b[39m\u001b[32m13\u001b[39m factorial(-\u001b[32m5\u001b[39m)\n",
      "\n",
      "\u001b[36mCell\u001b[39m\u001b[36m \u001b[39m\u001b[32mIn[7]\u001b[39m\u001b[32m, line 2\u001b[39m, in \u001b[36mfactorial\u001b[39m\u001b[34m(n)\u001b[39m\n",
      "\u001b[32m      1\u001b[39m \u001b[38;5;28;01mdef\u001b[39;00m\u001b[38;5;250m \u001b[39m\u001b[34mfactorial\u001b[39m(n):\n",
      "\u001b[32m----> \u001b[39m\u001b[32m2\u001b[39m     \u001b[38;5;28;01massert\u001b[39;00m n>= \u001b[32m0\u001b[39m, \u001b[33m\"\u001b[39m\u001b[33mn is becoming negative!\u001b[39m\u001b[33m\"\u001b[39m\n",
      "\u001b[32m      4\u001b[39m     \u001b[38;5;28;01mif\u001b[39;00m n == \u001b[32m0\u001b[39m:\n",
      "\u001b[32m      5\u001b[39m         \u001b[38;5;28;01mreturn\u001b[39;00m \u001b[32m0\u001b[39m\n",
      "\n",
      "\u001b[31mAssertionError\u001b[39m: n is becoming negative!"
     ]
    }
   ],
   "source": [
    "def factorial(n):\n",
    "    assert n>= 0, \"n is becoming negative!\"\n",
    "\n",
    "    if n == 0:\n",
    "        return 0\n",
    "    else:\n",
    "        fact_i = 1\n",
    "        for i in range(1, n+1):\n",
    "            fact_i *=i\n",
    "        return fact_i\n",
    "    \n",
    "    \n",
    "factorial(-5)\n"
   ]
  },
  {
   "cell_type": "code",
   "execution_count": 24,
   "id": "5de7ff53",
   "metadata": {},
   "outputs": [
    {
     "data": {
      "text/plain": [
       "np.float64(0.8939966636005579)"
      ]
     },
     "execution_count": 24,
     "metadata": {},
     "output_type": "execute_result"
    }
   ],
   "source": [
    "import numpy as np\n",
    "def my_function(angle, trig_function):\n",
    "        return trig_function(angle)\n",
    "\n",
    "# Let's use the function\n",
    "my_function(90, np.sin)        \n",
    "## np.float64(1.0)\n",
    "\n"
   ]
  },
  {
   "cell_type": "code",
   "execution_count": 25,
   "id": "6e0dc005",
   "metadata": {},
   "outputs": [
    {
     "name": "stdout",
     "output_type": "stream",
     "text": [
      "1.5707963267948966\n"
     ]
    }
   ],
   "source": [
    "print(np.pi/2)"
   ]
  },
  {
   "cell_type": "code",
   "execution_count": 29,
   "id": "a3118e92",
   "metadata": {},
   "outputs": [
    {
     "name": "stdout",
     "output_type": "stream",
     "text": [
      "6.123233995736766e-17\n"
     ]
    }
   ],
   "source": [
    "my_function(1.5707963267948966, np.cos)        \n",
    "## np.float64(6.123233995736766e-17)\n",
    "print(np.cos(1.5707963267948966))"
   ]
  },
  {
   "cell_type": "code",
   "execution_count": 31,
   "id": "371ec9aa",
   "metadata": {},
   "outputs": [
    {
     "name": "stdout",
     "output_type": "stream",
     "text": [
      "1.0\n"
     ]
    }
   ],
   "source": [
    "my_function(np.pi/2, lambda x: np.sin(9))  \n",
    "## np.float64(-1.0)\n",
    "print(np.sin(9*np.pi/2))"
   ]
  },
  {
   "cell_type": "code",
   "execution_count": null,
   "id": "ac903e6a",
   "metadata": {},
   "outputs": [
    {
     "name": "stdout",
     "output_type": "stream",
     "text": [
      "103.62879999999998\n"
     ]
    }
   ],
   "source": [
    "print(18.4/ (.5/.704) *4)"
   ]
  },
  {
   "cell_type": "code",
   "execution_count": null,
   "id": "eb2f0a7c",
   "metadata": {},
   "outputs": [
    {
     "ename": "NameError",
     "evalue": "name 'np' is not defined",
     "output_type": "error",
     "traceback": [
      "\u001b[31m---------------------------------------------------------------------------\u001b[39m",
      "\u001b[31mNameError\u001b[39m                                 Traceback (most recent call last)",
      "\u001b[36mCell\u001b[39m\u001b[36m \u001b[39m\u001b[32mIn[19]\u001b[39m\u001b[32m, line 1\u001b[39m\n\u001b[32m----> \u001b[39m\u001b[32m1\u001b[39m \u001b[38;5;28mprint\u001b[39m(np.ln(\u001b[32m1\u001b[39m))\n",
      "\u001b[31mNameError\u001b[39m: name 'np' is not defined"
     ]
    }
   ],
   "source": []
  }
 ],
 "metadata": {
  "kernelspec": {
   "display_name": "base",
   "language": "python",
   "name": "python3"
  },
  "language_info": {
   "codemirror_mode": {
    "name": "ipython",
    "version": 3
   },
   "file_extension": ".py",
   "mimetype": "text/x-python",
   "name": "python",
   "nbconvert_exporter": "python",
   "pygments_lexer": "ipython3",
   "version": "3.13.5"
  },
  "toc": {
   "base_numbering": 1,
   "nav_menu": {},
   "number_sections": true,
   "sideBar": true,
   "skip_h1_title": false,
   "title_cell": "Table of Contents",
   "title_sidebar": "Contents",
   "toc_cell": false,
   "toc_position": {},
   "toc_section_display": true,
   "toc_window_display": false
  }
 },
 "nbformat": 4,
 "nbformat_minor": 5
}
