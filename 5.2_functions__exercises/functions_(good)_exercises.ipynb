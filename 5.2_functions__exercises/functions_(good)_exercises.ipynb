{
 "cells": [
  {
   "attachments": {},
   "cell_type": "markdown",
   "id": "123456",
   "metadata": {},
   "source": [
    "<div style=\"text-align:left;font-size:2em\"><span style=\"font-weight:bolder;font-size:1.25em\">SP2273 | Learning Portfolio</span><br><br><span style=\"font-weight:bold;color:darkred\">Functions (Good) Exercises</span></div>"
   ]
  },
  {
   "cell_type": "code",
   "execution_count": null,
   "id": "50da485a",
   "metadata": {},
   "outputs": [
    {
     "data": {
      "text/plain": [
       "131.0"
      ]
     },
     "execution_count": 5,
     "metadata": {},
     "output_type": "execute_result"
    }
   ],
   "source": [
    "def convert_celscius(temperature_celcius, target_scale):\n",
    "    if target_scale == \"Kelvin\":\n",
    "        return temperature_celcius+ 273\n",
    "    else:\n",
    "        return \t(temperature_celcius* 9/5) + 32\n",
    "\n",
    "convert_celscius(55, \"Fehrenenheit\")\n"
   ]
  },
  {
   "cell_type": "code",
   "execution_count": 1,
   "id": "612f6144",
   "metadata": {},
   "outputs": [
    {
     "data": {
      "text/plain": [
       "12.777777777777779"
      ]
     },
     "execution_count": 1,
     "metadata": {},
     "output_type": "execute_result"
    }
   ],
   "source": [
    "def convert_fahrenheit(temperature_fahrenheit, target_scale):\n",
    "    if target_scale == \"Kelvin\":\n",
    "        return temperature_fahrenheit + 273\n",
    "    else: \n",
    "        return (temperature_fahrenheit- 32)* 5/9\n",
    "\n",
    "\n",
    "convert_fahrenheit(55, \"cius\")\n"
   ]
  },
  {
   "cell_type": "code",
   "execution_count": 5,
   "id": "ad48b487",
   "metadata": {},
   "outputs": [
    {
     "data": {
      "text/plain": [
       "-229.14999999999998"
      ]
     },
     "execution_count": 5,
     "metadata": {},
     "output_type": "execute_result"
    }
   ],
   "source": [
    "def convert_temperature(temperature, source_scale, target_scale):\n",
    "    if source_scale == \"Celscius\":\n",
    "        convert_celscius(temperature, target_scale)\n",
    "    elif source_scale == \"Fahrenheit\":\n",
    "        convert_fahrenheit(temperature, target_scale)\n",
    "    else:\n",
    "        if target_scale == \"Celscius\":\n",
    "            return temperature - 273.15\n",
    "        else:\n",
    "            return \t(temperature - 273.15) * 9/5 + 32\n",
    "\n",
    "\n",
    "convert_temperature(44, \"Kelvin\", \"Celscius\")"
   ]
  }
 ],
 "metadata": {
  "kernelspec": {
   "display_name": "base",
   "language": "python",
   "name": "python3"
  },
  "language_info": {
   "codemirror_mode": {
    "name": "ipython",
    "version": 3
   },
   "file_extension": ".py",
   "mimetype": "text/x-python",
   "name": "python",
   "nbconvert_exporter": "python",
   "pygments_lexer": "ipython3",
   "version": "3.13.5"
  },
  "toc": {
   "base_numbering": 1,
   "nav_menu": {},
   "number_sections": true,
   "sideBar": true,
   "skip_h1_title": false,
   "title_cell": "Table of Contents",
   "title_sidebar": "Contents",
   "toc_cell": false,
   "toc_position": {},
   "toc_section_display": true,
   "toc_window_display": false
  }
 },
 "nbformat": 4,
 "nbformat_minor": 5
}
