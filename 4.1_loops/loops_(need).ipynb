{
 "cells": [
  {
   "attachments": {},
   "cell_type": "markdown",
   "id": "123456",
   "metadata": {},
   "source": [
    "<div style=\"text-align:left;font-size:2em\"><span style=\"font-weight:bolder;font-size:1.25em\">SP2273 | Learning Portfolio</span><br><br><span style=\"font-weight:bold;color:darkred\">Loops (Need)</span></div>"
   ]
  },
  {
   "attachments": {},
   "cell_type": "markdown",
   "id": "123456",
   "metadata": {},
   "source": [
    "# What to expect in this chapter"
   ]
  },
  {
   "attachments": {},
   "cell_type": "markdown",
   "id": "123456",
   "metadata": {},
   "source": [
    "# 1 The for iterator"
   ]
  },
  {
   "cell_type": "code",
   "execution_count": 1,
   "id": "9b022731",
   "metadata": {},
   "outputs": [
    {
     "ename": "NameError",
     "evalue": "name 'real_names' is not defined",
     "output_type": "error",
     "traceback": [
      "\u001b[31m---------------------------------------------------------------------------\u001b[39m",
      "\u001b[31mNameError\u001b[39m                                 Traceback (most recent call last)",
      "\u001b[36mCell\u001b[39m\u001b[36m \u001b[39m\u001b[32mIn[1]\u001b[39m\u001b[32m, line 2\u001b[39m\n\u001b[32m      1\u001b[39m \u001b[38;5;28;01mfor\u001b[39;00m i \u001b[38;5;129;01min\u001b[39;00m [\u001b[32m0\u001b[39m,\u001b[32m1\u001b[39m,\u001b[32m2\u001b[39m]:\n\u001b[32m----> \u001b[39m\u001b[32m2\u001b[39m     \u001b[38;5;28mprint\u001b[39m(i, real_names[i])\n",
      "\u001b[31mNameError\u001b[39m: name 'real_names' is not defined"
     ]
    }
   ],
   "source": [
    "for i in [0,1,2]:\n",
    "    print(i, real_names[i])"
   ]
  },
  {
   "attachments": {},
   "cell_type": "markdown",
   "id": "123456",
   "metadata": {},
   "source": [
    "## 1.1 for with a list"
   ]
  },
  {
   "attachments": {},
   "cell_type": "markdown",
   "id": "123456",
   "metadata": {},
   "source": [
    "## 1.2 for with enumerate"
   ]
  },
  {
   "cell_type": "code",
   "execution_count": null,
   "id": "f9ea6fb0",
   "metadata": {},
   "outputs": [],
   "source": [
    "super_names = [\"Black Widow\", \"Iron Man\", \"Doctor Strange\"]\n",
    "real_names = [\"Natasha Romanoff\", \"Tony Stark\", \"Stephen Strange\"]\n",
    "\n"
   ]
  },
  {
   "cell_type": "code",
   "execution_count": null,
   "id": "e9ed7e21",
   "metadata": {},
   "outputs": [
    {
     "name": "stdout",
     "output_type": "stream",
     "text": [
      "0: Natasha Romanoff is a Marvel superhero!\n",
      "1: Tony Stark is a Marvel superhero!\n",
      "2: Stephen Strange is a Marvel superhero!\n"
     ]
    }
   ],
   "source": [
    "for super_hero_id, name in enumerate(real_names):\n",
    "    print(f'{count}: {name} is a Marvel superhero!')"
   ]
  },
  {
   "attachments": {},
   "cell_type": "markdown",
   "id": "123456",
   "metadata": {},
   "source": [
    "## 1.3 for with range"
   ]
  },
  {
   "attachments": {},
   "cell_type": "markdown",
   "id": "123456",
   "metadata": {},
   "source": [
    "# 2 while"
   ]
  },
  {
   "cell_type": "code",
   "execution_count": 2,
   "id": "fe1fb85a",
   "metadata": {},
   "outputs": [
    {
     "name": "stdout",
     "output_type": "stream",
     "text": [
      "0\n",
      "1\n",
      "2\n",
      "3\n",
      "4\n",
      "5\n",
      "6\n",
      "7\n",
      "8\n",
      "9\n"
     ]
    }
   ],
   "source": [
    "#keeps running until whatever u say is true __\n",
    "\n",
    "i=0\n",
    "while i<10:\n",
    "    print(i)\n",
    "    i+=1"
   ]
  },
  {
   "cell_type": "code",
   "execution_count": 9,
   "id": "5fcd9643",
   "metadata": {},
   "outputs": [
    {
     "name": "stdout",
     "output_type": "stream",
     "text": [
      "1.0000000000 np.sin(x)=0.84147098 np.tan(x)=1.55740772 False\n",
      "0.5000000000 np.sin(x)=0.47942554 np.tan(x)=0.54630249 False\n",
      "0.2500000000 np.sin(x)=0.24740396 np.tan(x)=0.25534192 False\n",
      "0.1250000000 np.sin(x)=0.12467473 np.tan(x)=0.12565514 False\n",
      "0.0625000000 np.sin(x)=0.06245932 np.tan(x)=0.06258151 False\n",
      "0.0312500000 np.sin(x)=0.03124491 np.tan(x)=0.03126018 False\n",
      "0.0156250000 np.sin(x)=0.01562436 np.tan(x)=0.01562627 False\n",
      "0.0078125000 np.sin(x)=0.00781242 np.tan(x)=0.00781266 False\n",
      "0.0039062500 np.sin(x)=0.00390624 np.tan(x)=0.00390627 True\n",
      "0.0019531250 np.sin(x)=0.00195312 np.tan(x)=0.00195313 True\n"
     ]
    }
   ],
   "source": [
    "import numpy as np\n",
    "x=1\n",
    "while x > 1E-3:\n",
    "\n",
    "    print(f'{x:.10f}', f'{np.sin(x)=:.8f}', f'{np.tan(x)=:.8f}',\n",
    "    np.isclose(np.sin(x), np.tan(x)))\n",
    "    x/=2"
   ]
  },
  {
   "cell_type": "code",
   "execution_count": 10,
   "id": "9b7f8308",
   "metadata": {},
   "outputs": [
    {
     "name": "stdout",
     "output_type": "stream",
     "text": [
      "0.0000000000 np.sin(x)=0.00000000 np.tan(x)=0.00000000 True\n",
      "1.0000000000 np.sin(x)=0.84147098 np.tan(x)=1.55740772 False\n",
      "2.0000000000 np.sin(x)=0.90929743 np.tan(x)=-2.18503986 False\n",
      "3.0000000000 np.sin(x)=0.14112001 np.tan(x)=-0.14254654 False\n",
      "4.0000000000 np.sin(x)=-0.75680250 np.tan(x)=1.15782128 False\n",
      "5.0000000000 np.sin(x)=-0.95892427 np.tan(x)=-3.38051501 False\n",
      "6.0000000000 np.sin(x)=-0.27941550 np.tan(x)=-0.29100619 False\n",
      "7.0000000000 np.sin(x)=0.65698660 np.tan(x)=0.87144798 False\n",
      "8.0000000000 np.sin(x)=0.98935825 np.tan(x)=-6.79971146 False\n",
      "9.0000000000 np.sin(x)=0.41211849 np.tan(x)=-0.45231566 False\n"
     ]
    }
   ],
   "source": [
    "import numpy as np\n",
    "x=1\n",
    "for x in range(10):\n",
    "\n",
    "    print(f'{x:.10f}', f'{np.sin(x)=:.8f}', f'{np.tan(x)=:.8f}',\n",
    "    np.isclose(np.sin(x), np.tan(x)))\n"
   ]
  }
 ],
 "metadata": {
  "kernelspec": {
   "display_name": "base",
   "language": "python",
   "name": "python3"
  },
  "language_info": {
   "codemirror_mode": {
    "name": "ipython",
    "version": 3
   },
   "file_extension": ".py",
   "mimetype": "text/x-python",
   "name": "python",
   "nbconvert_exporter": "python",
   "pygments_lexer": "ipython3",
   "version": "3.13.5"
  },
  "toc": {
   "base_numbering": 1,
   "nav_menu": {},
   "number_sections": true,
   "sideBar": true,
   "skip_h1_title": false,
   "title_cell": "Table of Contents",
   "title_sidebar": "Contents",
   "toc_cell": false,
   "toc_position": {},
   "toc_section_display": true,
   "toc_window_display": false
  }
 },
 "nbformat": 4,
 "nbformat_minor": 5
}
