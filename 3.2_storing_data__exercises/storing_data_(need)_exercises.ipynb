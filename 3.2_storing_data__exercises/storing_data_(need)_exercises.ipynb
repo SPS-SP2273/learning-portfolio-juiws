{
 "cells": [
  {
   "attachments": {},
   "cell_type": "markdown",
   "id": "123456",
   "metadata": {},
   "source": [
    "<div style=\"text-align:left;font-size:2em\"><span style=\"font-weight:bolder;font-size:1.25em\">SP2273 | Learning Portfolio</span><br><br><span style=\"font-weight:bold;color:darkred\">Storing Data (Need) Exercises</span></div>"
   ]
  },
  {
   "cell_type": "markdown",
   "id": "725254a0",
   "metadata": {},
   "source": [
    "Similarities between lists and arrays -> both contains items, but only arrays can contian math integers and do mathematical arthemic "
   ]
  },
  {
   "cell_type": "code",
   "execution_count": 1,
   "id": "a2d445d4",
   "metadata": {},
   "outputs": [
    {
     "name": "stdout",
     "output_type": "stream",
     "text": [
      "a1\n",
      "c3\n",
      "e5\n",
      "g7\n",
      "i9\n"
     ]
    }
   ],
   "source": [
    "py_list = [\"a1\", \"b2\", \"c3\", \"d4\", \"e5\", \"f6\", \"g7\", \"h8\", \"i9\", \"j10\"]\n",
    "print(py_list[0])    # Prints 'a1'\n",
    "print(py_list[2])   # Prints 'c3'\n",
    "print(py_list[4])   # Prints 'e5'\n",
    "print(py_list[6])   # Prints 'g7'\n",
    "\n",
    "print(py_list[8])   # Prints 'i9\""
   ]
  },
  {
   "cell_type": "code",
   "execution_count": 2,
   "id": "30157926",
   "metadata": {},
   "outputs": [
    {
     "name": "stdout",
     "output_type": "stream",
     "text": [
      "a1\n",
      "c3\n",
      "e5\n",
      "g7\n",
      "i9\n"
     ]
    }
   ],
   "source": [
    "py_list = [\"a1\", \"b2\", \"c3\", \"d4\", \"e5\", \"f6\", \"g7\", \"h8\", \"i9\", \"j10\"]\n",
    "\n",
    "for i in range(0,9,2):\n",
    "    print(py_list[i])    # Prints 'a1'\n"
   ]
  },
  {
   "cell_type": "code",
   "execution_count": 5,
   "id": "b5e27ed6",
   "metadata": {},
   "outputs": [
    {
     "name": "stdout",
     "output_type": "stream",
     "text": [
      "['Beryllium', 'Boron', 'Carbon', 'Nitrogen', 'Oxygen', 'Fluorine', 'Neon']\n"
     ]
    }
   ],
   "source": [
    "elements = ['Hydrogen',\n",
    "            'Helium', 'Lithium',\n",
    "            'Beryllium', 'Boron', 'Carbon',\n",
    "            'Nitrogen', 'Oxygen',\n",
    "            'Fluorine',\n",
    "            'Neon']\n",
    "\n",
    "print(elements[3:])"
   ]
  },
  {
   "cell_type": "code",
   "execution_count": 6,
   "id": "4845ea52",
   "metadata": {},
   "outputs": [
    {
     "name": "stdout",
     "output_type": "stream",
     "text": [
      "['Neon', 'Fluorine', 'Oxygen', 'Nitrogen', 'Carbon', 'Boron']\n"
     ]
    }
   ],
   "source": [
    "print(elements[:3:-1])\n",
    "#becauseee bigger number is now the start,smaller number now the end"
   ]
  },
  {
   "cell_type": "code",
   "execution_count": 8,
   "id": "aff58533",
   "metadata": {},
   "outputs": [
    {
     "name": "stdout",
     "output_type": "stream",
     "text": [
      "Boron\n"
     ]
    }
   ],
   "source": [
    "print(elements[4])"
   ]
  },
  {
   "cell_type": "code",
   "execution_count": 12,
   "id": "9d087479",
   "metadata": {},
   "outputs": [
    {
     "name": "stdout",
     "output_type": "stream",
     "text": [
      "Boron\n"
     ]
    }
   ],
   "source": [
    "print(elements[-6])\n",
    "# 10 items indexed 0 to 9, index 4 is the item, item is the 5th from front, 6th from back, "
   ]
  },
  {
   "cell_type": "code",
   "execution_count": null,
   "id": "87c173bc",
   "metadata": {},
   "outputs": [],
   "source": []
  },
  {
   "cell_type": "code",
   "execution_count": 5,
   "id": "7d6ac4c0",
   "metadata": {},
   "outputs": [
    {
     "name": "stdout",
     "output_type": "stream",
     "text": [
      "10\n"
     ]
    }
   ],
   "source": [
    "numbers=[45, 60, 1, 30, 96, 1, 96, 57, 16, 1,\n",
    "        99, 62, 86, 43, 42, 60, 59, 1, 1, 35,\n",
    "        83, 47, 34, 28, 68, 23, 22, 92, 1, 79,\n",
    "        1, 29, 94, 72, 46, 47, 1, 74, 32, 20,\n",
    "        8, 37, 1, 1, 89, 29, 86, 19, 43, 61]                  \n",
    "\n",
    "import numpy as np\n",
    "\n",
    "numbers_np = np.array(numbers)\n",
    "mask = numbers_np == 1\n",
    "print(sum(numbers_np[mask]))\n"
   ]
  },
  {
   "cell_type": "code",
   "execution_count": null,
   "id": "80376b20",
   "metadata": {},
   "outputs": [],
   "source": [
    "count = 0\n",
    "for number in numbers_np:\n",
    "        if number == 1:\n",
    "                count +=1\n",
    "print(count)"
   ]
  },
  {
   "cell_type": "code",
   "execution_count": 8,
   "id": "c1a8942e",
   "metadata": {},
   "outputs": [
    {
     "name": "stdout",
     "output_type": "stream",
     "text": [
      "38.5\n",
      "302.5\n",
      "326.0893282522444\n"
     ]
    }
   ],
   "source": [
    "x_1 = [1, 4, 9, 16, 25, 36, 49, 64, 81, 100]\n",
    "x_2 = [1, 8, 27, 64, 125, 216, 343, 512, 729, 1000]\n",
    "\n",
    "x_1_np = np.array(x_1)\n",
    "\n",
    "mean_x_1 = sum(x_1_np)/len(x_1)\n",
    "print(mean_x_1)\n",
    "\n",
    "x_2_np = np.array(x_2)\n",
    "print(x_2_np.mean())\n",
    "\n",
    "print(x_2_np.std())"
   ]
  },
  {
   "cell_type": "code",
   "execution_count": 18,
   "id": "aff1c444",
   "metadata": {},
   "outputs": [
    {
     "name": "stdout",
     "output_type": "stream",
     "text": [
      "38.5\n"
     ]
    }
   ],
   "source": [
    "print(x_1_np.mean())"
   ]
  },
  {
   "cell_type": "code",
   "execution_count": 25,
   "id": "2b98a542",
   "metadata": {},
   "outputs": [],
   "source": [
    "from math import sqrt"
   ]
  },
  {
   "cell_type": "code",
   "execution_count": 26,
   "id": "287bd759",
   "metadata": {},
   "outputs": [
    {
     "ename": "NameError",
     "evalue": "name 'n' is not defined",
     "output_type": "error",
     "traceback": [
      "\u001b[31m---------------------------------------------------------------------------\u001b[39m",
      "\u001b[31mNameError\u001b[39m                                 Traceback (most recent call last)",
      "\u001b[36mCell\u001b[39m\u001b[36m \u001b[39m\u001b[32mIn[26]\u001b[39m\u001b[32m, line 1\u001b[39m\n\u001b[32m----> \u001b[39m\u001b[32m1\u001b[39m r = (\u001b[38;5;28mlen\u001b[39m(x_1)*(\u001b[38;5;28msum\u001b[39m(x_1_np*x_2_np))- (\u001b[38;5;28msum\u001b[39m(x_1_np)*\u001b[38;5;28msum\u001b[39m(x_2_np)))/sqrt((n*\u001b[38;5;28msum\u001b[39m(x_1_np^\u001b[32m2\u001b[39m - (\u001b[38;5;28msum\u001b[39m(x_1_np)^\u001b[32m2\u001b[39m)))(n*\u001b[38;5;28msum\u001b[39m(x_2_np^\u001b[32m2\u001b[39m - (\u001b[38;5;28msum\u001b[39m(x_2_np)^\u001b[32m2\u001b[39m))))\n",
      "\u001b[31mNameError\u001b[39m: name 'n' is not defined"
     ]
    }
   ],
   "source": [
    "r = (len(x_1)*(sum(x_1_np*x_2_np))- (sum(x_1_np)*sum(x_2_np)))/sqrt((n*sum(x_1_np^2 - (sum(x_1_np)^2)))(n*sum(x_2_np^2 - (sum(x_2_np)^2))))"
   ]
  },
  {
   "cell_type": "code",
   "execution_count": 15,
   "id": "b53f3fa0",
   "metadata": {},
   "outputs": [
    {
     "name": "stdout",
     "output_type": "stream",
     "text": [
      "220825\n"
     ]
    }
   ],
   "source": [
    "print(sum(x_1_np*x_2_np))"
   ]
  },
  {
   "cell_type": "code",
   "execution_count": 28,
   "id": "04ff1aa9",
   "metadata": {},
   "outputs": [
    {
     "name": "stdout",
     "output_type": "stream",
     "text": [
      "0.7264541504136329\n"
     ]
    }
   ],
   "source": [
    "n_sum_xy = len(x_1)*(sum(x_1_np* x_2_np))\n",
    "n_sum_x_2 = len(x_1)*(sum(x_1_np**2))\n",
    "n_sum_y_2 = len(x_1)*(sum(x_2_np**2))\n",
    "\n",
    "r_num = n_sum_xy - sum(x_1_np)*sum(x_2_np)\n",
    "r_den = sqrt((n_sum_x_2 - (sum(x_1_np)**2))*(n_sum_y_2 - (sum(x_1_np)**2)))\n",
    "\n",
    "r = r_num/ r_den\n",
    "print(r)\n"
   ]
  },
  {
   "cell_type": "code",
   "execution_count": 30,
   "id": "2432843d",
   "metadata": {},
   "outputs": [],
   "source": [
    "import numpy as np"
   ]
  },
  {
   "cell_type": "code",
   "execution_count": 34,
   "id": "d8e8699b",
   "metadata": {},
   "outputs": [
    {
     "data": {
      "text/plain": [
       "np.float64(0.9871796626270701)"
      ]
     },
     "execution_count": 34,
     "metadata": {},
     "output_type": "execute_result"
    }
   ],
   "source": [
    "np.corrcoef(x_1, x_2)[0,1]"
   ]
  },
  {
   "cell_type": "markdown",
   "id": "bbc9cbb8",
   "metadata": {},
   "source": [
    "the r coefficient using the np.corrcoef is closer to +1 than the r coeff calculated using the formula, it means that using the np, the x_1 and x_2 points lie closer to a straight line graph with a positive gradient...\n"
   ]
  }
 ],
 "metadata": {
  "kernelspec": {
   "display_name": "base",
   "language": "python",
   "name": "python3"
  },
  "language_info": {
   "codemirror_mode": {
    "name": "ipython",
    "version": 3
   },
   "file_extension": ".py",
   "mimetype": "text/x-python",
   "name": "python",
   "nbconvert_exporter": "python",
   "pygments_lexer": "ipython3",
   "version": "3.13.5"
  },
  "toc": {
   "base_numbering": 1,
   "nav_menu": {},
   "number_sections": true,
   "sideBar": true,
   "skip_h1_title": false,
   "title_cell": "Table of Contents",
   "title_sidebar": "Contents",
   "toc_cell": false,
   "toc_position": {},
   "toc_section_display": true,
   "toc_window_display": false
  }
 },
 "nbformat": 4,
 "nbformat_minor": 5
}
