{
 "cells": [
  {
   "attachments": {},
   "cell_type": "markdown",
   "id": "123456",
   "metadata": {},
   "source": [
    "<div style=\"text-align:left;font-size:2em\"><span style=\"font-weight:bolder;font-size:1.25em\">SP2273 | Learning Portfolio</span><br><br><span style=\"font-weight:bold;color:darkred\">Storing Data (Good) Exercises</span></div>"
   ]
  },
  {
   "cell_type": "code",
   "execution_count": null,
   "id": "6daf181b",
   "metadata": {},
   "outputs": [],
   "source": [
    "subsetting - putting a list into a listXXX -> picking sth by index\n",
    "indexing - putting a number from 0 to len() onto the item in listXX ->accessing things by position\n",
    "slicing - cutting a string into parts seperated by a - or spave -> [start:stop:step]\n",
    "masking -> boolean, true/false"
   ]
  },
  {
   "cell_type": "code",
   "execution_count": 2,
   "id": "240ec1d1",
   "metadata": {},
   "outputs": [],
   "source": [
    "import numpy as np"
   ]
  },
  {
   "cell_type": "code",
   "execution_count": null,
   "id": "51b24184",
   "metadata": {},
   "outputs": [],
   "source": [
    "Numbers = []\n",
    "for item in np_array_2d:\n",
    "    \n",
    "\n",
    "darray.astype(int, copy=True, order='K', casting='unsafe', subok=True)\n"
   ]
  },
  {
   "cell_type": "code",
   "execution_count": 3,
   "id": "0efc9ebc",
   "metadata": {},
   "outputs": [],
   "source": [
    "import numpy as np"
   ]
  },
  {
   "cell_type": "code",
   "execution_count": null,
   "id": "7b41b21b",
   "metadata": {},
   "outputs": [
    {
     "name": "stdout",
     "output_type": "stream",
     "text": [
      "25\n",
      "[['1' 'A']\n",
      " ['3' 'C']\n",
      " ['5' 'E']\n",
      " ['7' 'G']\n",
      " ['9' 'I']]\n",
      "['A' 'C' 'E' 'G' 'I']\n"
     ]
    }
   ],
   "source": [
    "np_array_2d = np.array([[1, \"A\"], [3, \"C\"], [2, \"B\"], [4, \"D\"],\n",
    "                        [5, \"E\"], [7, \"G\"], [6, \"F\"], [8, \"H\"],\n",
    "                        [10, \"J\"], [9, \"I\"]])\n",
    "\n",
    "numbers_np = np_array_2d[:,0].astype(int)\n",
    "\n",
    "my_mask = numbers_np %2 != 0\n",
    "print(sum(numbers_np[my_mask])) \n",
    "\n",
    "#to get the tuple\n",
    "print(np_array_2d[my_mask])\n",
    "\n",
    "#to get the letters only\n",
    "print(np_array_2d[my_mask][:,1])\n",
    "\n",
    "\n",
    "#print (np_array_2d[my_mask])\n",
    "#for item in np_array_2d:\n",
    "#    if int(item[0]) %2 != 0:\n",
    "#        counted.append(item[1])\n",
    "#print(counted)\n",
    "\n",
    "    "
   ]
  },
  {
   "cell_type": "code",
   "execution_count": 36,
   "id": "e38b9660",
   "metadata": {},
   "outputs": [
    {
     "name": "stdout",
     "output_type": "stream",
     "text": [
      "[[ 1  0  1 -1 -1]\n",
      " [ 1 -1  1 -1 -1]\n",
      " [ 1 -1 -1  1 -1]\n",
      " [-1  1  1 -1 -1]\n",
      " [ 1 -1  1 -1  1]]\n"
     ]
    }
   ],
   "source": [
    "np_numbers = np.array([[66, 50, 57, -1, -1], \n",
    "                       [92, -1, 88, -1, -1], \n",
    "                       [75, -1, -1, 76, -1], \n",
    "                       [-1, 51, 87, -1, -1], \n",
    "                       [71, -1, 67, -1, 69]])\n",
    "\n",
    "\n",
    "mask_1 = np_numbers<50\n",
    "np_numbers[mask_1] = -1\n",
    "\n",
    "mask_2 = np_numbers >50\n",
    "np_numbers[mask_2] = +1\n",
    "\n",
    "mask_3 = np_numbers == 50\n",
    "np_numbers[mask_3] = 0\n",
    "\n",
    "print(np_numbers)"
   ]
  }
 ],
 "metadata": {
  "kernelspec": {
   "display_name": "base",
   "language": "python",
   "name": "python3"
  },
  "language_info": {
   "codemirror_mode": {
    "name": "ipython",
    "version": 3
   },
   "file_extension": ".py",
   "mimetype": "text/x-python",
   "name": "python",
   "nbconvert_exporter": "python",
   "pygments_lexer": "ipython3",
   "version": "3.13.5"
  },
  "toc": {
   "base_numbering": 1,
   "nav_menu": {},
   "number_sections": true,
   "sideBar": true,
   "skip_h1_title": false,
   "title_cell": "Table of Contents",
   "title_sidebar": "Contents",
   "toc_cell": false,
   "toc_position": {},
   "toc_section_display": true,
   "toc_window_display": false
  }
 },
 "nbformat": 4,
 "nbformat_minor": 5
}
