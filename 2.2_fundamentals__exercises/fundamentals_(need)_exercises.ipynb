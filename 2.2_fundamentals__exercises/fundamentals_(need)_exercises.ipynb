{
 "cells": [
  {
   "attachments": {},
   "cell_type": "markdown",
   "id": "123456",
   "metadata": {},
   "source": [
    "<div style=\"text-align:left;font-size:2em\"><span style=\"font-weight:bolder;font-size:1.25em\">SP2273 | Learning Portfolio</span><br><br><span style=\"font-weight:bold;color:darkred\">Fundamentals (Need) Exercises</span></div>"
   ]
  },
  {
   "cell_type": "markdown",
   "id": "b977fbd2",
   "metadata": {},
   "source": [
    "1. print()\n",
    "2. dot for split\n",
    "3. list []\n",
    "4. discitonary {}"
   ]
  },
  {
   "cell_type": "code",
   "execution_count": 1,
   "id": "1056275d",
   "metadata": {},
   "outputs": [
    {
     "name": "stdout",
     "output_type": "stream",
     "text": [
      "3 4 4.69041575982343\n"
     ]
    }
   ],
   "source": [
    "import math\n",
    "x, y = 3, 4\n",
    "z = math.sqrt(x*2 + y**2)\n",
    "print(x, y, z)"
   ]
  },
  {
   "cell_type": "markdown",
   "id": "bb342f98",
   "metadata": {},
   "source": [
    "|\\#| Term|Description\n",
    "|---|---|---\n",
    "|1|Function| runs things based off what python have\n",
    "|2|Arguments| true false questions\n",
    "|3|Comments| # doesnt count\n",
    "|4|Indentations| TAB and be careful it will affect the results if i randomly TAB\n",
    "|5|Packages| its tgt?\n",
    "|6|.|dot is sth.sth_2 sth_2 belongs to sth\n",
    "|7|:| used after a if__: or a else: or a 60:.6f means 6 dp and f means it is an integer\n",
    "|8|[]|is a list,\n",
    "|9|[[],[]]| a list ina  list an array i think\n",
    "|10|{}| dicitonaryy"
   ]
  },
  {
   "cell_type": "code",
   "execution_count": 3,
   "id": "b074341a",
   "metadata": {},
   "outputs": [
    {
     "data": {
      "text/plain": [
       "2.5"
      ]
     },
     "execution_count": 3,
     "metadata": {},
     "output_type": "execute_result"
    }
   ],
   "source": [
    "5/2           # this is a float"
   ]
  },
  {
   "cell_type": "code",
   "execution_count": 5,
   "id": "f9b8c321",
   "metadata": {},
   "outputs": [
    {
     "data": {
      "text/plain": [
       "2"
      ]
     },
     "execution_count": 5,
     "metadata": {},
     "output_type": "execute_result"
    }
   ],
   "source": [
    "5//2 #this divides and round down"
   ]
  },
  {
   "cell_type": "code",
   "execution_count": 9,
   "id": "70ab09b1",
   "metadata": {},
   "outputs": [
    {
     "data": {
      "text/plain": [
       "2"
      ]
     },
     "execution_count": 9,
     "metadata": {},
     "output_type": "execute_result"
    }
   ],
   "source": [
    "5%3  #reaminder after dividing"
   ]
  }
 ],
 "metadata": {
  "kernelspec": {
   "display_name": "base",
   "language": "python",
   "name": "python3"
  },
  "language_info": {
   "codemirror_mode": {
    "name": "ipython",
    "version": 3
   },
   "file_extension": ".py",
   "mimetype": "text/x-python",
   "name": "python",
   "nbconvert_exporter": "python",
   "pygments_lexer": "ipython3",
   "version": "3.13.5"
  },
  "toc": {
   "base_numbering": 1,
   "nav_menu": {},
   "number_sections": true,
   "sideBar": true,
   "skip_h1_title": false,
   "title_cell": "Table of Contents",
   "title_sidebar": "Contents",
   "toc_cell": false,
   "toc_position": {},
   "toc_section_display": true,
   "toc_window_display": false
  }
 },
 "nbformat": 4,
 "nbformat_minor": 5
}
