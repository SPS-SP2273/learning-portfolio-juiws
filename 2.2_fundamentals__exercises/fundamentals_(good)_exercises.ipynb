{
 "cells": [
  {
   "attachments": {},
   "cell_type": "markdown",
   "id": "123456",
   "metadata": {},
   "source": [
    "<div style=\"text-align:left;font-size:2em\"><span style=\"font-weight:bolder;font-size:1.25em\">SP2273 | Learning Portfolio</span><br><br><span style=\"font-weight:bold;color:darkred\">Fundamentals (Good) Exercises</span></div>"
   ]
  },
  {
   "cell_type": "code",
   "execution_count": 2,
   "id": "38aa0470",
   "metadata": {},
   "outputs": [
    {
     "name": "stdout",
     "output_type": "stream",
     "text": [
      "You entered 7\n"
     ]
    }
   ],
   "source": [
    "user_input = input('Please provide me with a number?')\n",
    "print('You entered', user_input)"
   ]
  },
  {
   "cell_type": "code",
   "execution_count": 1,
   "id": "4c8996c3",
   "metadata": {},
   "outputs": [
    {
     "name": "stdout",
     "output_type": "stream",
     "text": [
      "how you doin ok!\n"
     ]
    }
   ],
   "source": [
    "name = input('NAMEEE: ')\n",
    "print(f'how you doin {name}!')"
   ]
  },
  {
   "cell_type": "code",
   "execution_count": 4,
   "id": "94973efd",
   "metadata": {},
   "outputs": [
    {
     "name": "stdout",
     "output_type": "stream",
     "text": [
      "my name is ok and I am 5 years olf\n"
     ]
    }
   ],
   "source": [
    "age = input('AGEEEE: ')\n",
    "\n",
    "print(f'my name is {name} and I am {age} years olf')"
   ]
  },
  {
   "cell_type": "code",
   "execution_count": null,
   "id": "022d2c79",
   "metadata": {},
   "outputs": [],
   "source": [
    "print(f\"The value of pi to {x} decimal places is: \")\n",
    "\n",
    "\n"
   ]
  },
  {
   "cell_type": "code",
   "execution_count": 14,
   "id": "f0794145",
   "metadata": {},
   "outputs": [
    {
     "name": "stdout",
     "output_type": "stream",
     "text": [
      "The student's letter grade is: ure joking\n"
     ]
    }
   ],
   "source": [
    "grade = int(input('Enter the student\\'s score: '))\n",
    "if grade ==0:\n",
    "    l_grade = 'loooooser' \n",
    "elif 0<grade<35:\n",
    "    l_grade = 'Fail'\n",
    "elif grade<50:\n",
    "    l_grade = 'C'\n",
    "elif grade<70:\n",
    "    l_grade = 'B'\n",
    "elif grade<=100:\n",
    "    l_grade = 'A'\n",
    "else:\n",
    "    l_grade = 'ure joking'\n",
    "\n",
    "print(f'The student\\'s letter grade is: {l_grade}')"
   ]
  },
  {
   "cell_type": "code",
   "execution_count": 23,
   "id": "722266fc",
   "metadata": {},
   "outputs": [
    {
     "name": "stdout",
     "output_type": "stream",
     "text": [
      "120\n",
      "Invalid input\n"
     ]
    }
   ],
   "source": [
    "def factorial(n):\n",
    "    if n < 0:\n",
    "        return \"Invalid input\"\n",
    "    elif n == 0:\n",
    "        return 1\n",
    "    else:\n",
    "        result = 1\n",
    "        for number in range(1, n+1):\n",
    "            result *= number\n",
    "        return result\n",
    "\n",
    "\n",
    "print(factorial(5))   # Testing, expected output: 120\n",
    "print(factorial(-1))  # Testing, expected output: Invalid input"
   ]
  },
  {
   "cell_type": "code",
   "execution_count": 12,
   "id": "880c8ac1",
   "metadata": {},
   "outputs": [
    {
     "name": "stdout",
     "output_type": "stream",
     "text": [
      "pineppale hehe\n"
     ]
    }
   ],
   "source": [
    "print(f'{'pineppale':<10}hehe')"
   ]
  }
 ],
 "metadata": {
  "kernelspec": {
   "display_name": "base",
   "language": "python",
   "name": "python3"
  },
  "language_info": {
   "codemirror_mode": {
    "name": "ipython",
    "version": 3
   },
   "file_extension": ".py",
   "mimetype": "text/x-python",
   "name": "python",
   "nbconvert_exporter": "python",
   "pygments_lexer": "ipython3",
   "version": "3.13.5"
  },
  "toc": {
   "base_numbering": 1,
   "nav_menu": {},
   "number_sections": true,
   "sideBar": true,
   "skip_h1_title": false,
   "title_cell": "Table of Contents",
   "title_sidebar": "Contents",
   "toc_cell": false,
   "toc_position": {},
   "toc_section_display": true,
   "toc_window_display": false
  }
 },
 "nbformat": 4,
 "nbformat_minor": 5
}
