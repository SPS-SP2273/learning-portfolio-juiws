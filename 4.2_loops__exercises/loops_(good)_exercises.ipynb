{
 "cells": [
  {
   "attachments": {},
   "cell_type": "markdown",
   "id": "123456",
   "metadata": {},
   "source": [
    "<div style=\"text-align:left;font-size:2em\"><span style=\"font-weight:bolder;font-size:1.25em\">SP2273 | Learning Portfolio</span><br><br><span style=\"font-weight:bold;color:darkred\">Loops (Good) Exercises</span></div>"
   ]
  },
  {
   "cell_type": "code",
   "execution_count": 9,
   "id": "72c1b680",
   "metadata": {},
   "outputs": [
    {
     "name": "stdout",
     "output_type": "stream",
     "text": [
      "[1, 9, 25, 49, 81]\n"
     ]
    }
   ],
   "source": [
    "squares_of_odd = []\n",
    "for i in range(1,10):\n",
    "    if i%2 == 0:\n",
    "        continue \n",
    "    else:\n",
    "        squares_of_odd.append(i**2)\n",
    "print(squares_of_odd)\n",
    "        \n"
   ]
  },
  {
   "cell_type": "code",
   "execution_count": null,
   "id": "b7e73652",
   "metadata": {},
   "outputs": [
    {
     "name": "stdout",
     "output_type": "stream",
     "text": [
      "[1, 9, 25, 49, 81]\n"
     ]
    }
   ],
   "source": [
    "squares_of_odd = []\n",
    "for i in range(1,10):\n",
    "    if i%2 == 0:\n",
    "        continue \n",
    "    else:\n",
    "        squares_of_odd.append(i**2)\n",
    "print(squares_of_odd)\n",
    "        \n"
   ]
  },
  {
   "cell_type": "code",
   "execution_count": 8,
   "id": "1578d4ff",
   "metadata": {},
   "outputs": [
    {
     "data": {
      "text/plain": [
       "[1, 9, 25, 49, 81]"
      ]
     },
     "execution_count": 8,
     "metadata": {},
     "output_type": "execute_result"
    }
   ],
   "source": [
    "[i**2 for i in range(1,10) if i % 2 != 0]"
   ]
  },
  {
   "cell_type": "code",
   "execution_count": 15,
   "id": "973419fe",
   "metadata": {},
   "outputs": [
    {
     "name": "stdout",
     "output_type": "stream",
     "text": [
      "14.6 μs ± 2.09 μs per loop (mean ± std. dev. of 7 runs, 100,000 loops each)\n",
      "[1, 9, 25, 49, 81]\n"
     ]
    }
   ],
   "source": [
    "%timeit \"-\".join(str(n) for n in range(100))\n",
    "squares_of_odd = []\n",
    "for i in range(1,10):\n",
    "    if i%2 == 0:\n",
    "        continue \n",
    "    else:\n",
    "        squares_of_odd.append(i**2)\n",
    "print(squares_of_odd)\n"
   ]
  },
  {
   "cell_type": "code",
   "execution_count": 16,
   "id": "8e7172a4",
   "metadata": {},
   "outputs": [
    {
     "name": "stdout",
     "output_type": "stream",
     "text": [
      "18.3 μs ± 1.1 μs per loop (mean ± std. dev. of 7 runs, 100,000 loops each)\n"
     ]
    },
    {
     "data": {
      "text/plain": [
       "[1, 9, 25, 49, 81]"
      ]
     },
     "execution_count": 16,
     "metadata": {},
     "output_type": "execute_result"
    }
   ],
   "source": [
    "%timeit \"-\".join(str(n) for n in range(100))\n",
    "[i**2 for i in range(1,10) if i % 2 != 0]"
   ]
  },
  {
   "cell_type": "code",
   "execution_count": 17,
   "id": "a0d8c262",
   "metadata": {},
   "outputs": [
    {
     "name": "stdout",
     "output_type": "stream",
     "text": [
      "104\n"
     ]
    }
   ],
   "source": [
    "#initial is 100\n",
    "#*.95 each year (yr)\n",
    "#when sample <= 0.5\n",
    "\n",
    "q = 100\n",
    "yr = 0\n",
    "while q > 0.5:\n",
    "    q*=0.95\n",
    "    yr +=1\n",
    "print(yr)"
   ]
  },
  {
   "cell_type": "code",
   "execution_count": 26,
   "id": "ab9630c3",
   "metadata": {},
   "outputs": [
    {
     "name": "stdout",
     "output_type": "stream",
     "text": [
      "2016 with a change of +3.410000000000025\n"
     ]
    }
   ],
   "source": [
    "co2_data = [\n",
    "    (2000, 369.55), (2001, 371.14), (2002, 373.28), \n",
    "    (2003, 375.80), (2004, 377.52), (2005, 379.80), \n",
    "    (2006, 381.90), (2007, 383.79), (2008, 385.60), \n",
    "    (2009, 387.43), (2010, 389.90), (2011, 391.65), \n",
    "    (2012, 393.85), (2013, 396.52), (2014, 398.65),\n",
    "    (2015, 400.83), (2016, 404.24), (2017, 406.55), \n",
    "    (2018, 408.52), (2019, 411.44), (2020, 414.24)\n",
    "]\n",
    "import numpy as np\n",
    "np_co2 = np.array(co2_data)\n",
    "prev_ppm = 0\n",
    "for (year, ppm) in co2_data:\n",
    "    if year == 2000:\n",
    "        prev_ppm = ppm\n",
    "        continue\n",
    "    if ppm >= 3+prev_ppm:\n",
    "        print(f\"{year} with a change of +{ppm - prev_ppm}\")\n",
    "    prev_ppm = ppm\n"
   ]
  }
 ],
 "metadata": {
  "kernelspec": {
   "display_name": "base",
   "language": "python",
   "name": "python3"
  },
  "language_info": {
   "codemirror_mode": {
    "name": "ipython",
    "version": 3
   },
   "file_extension": ".py",
   "mimetype": "text/x-python",
   "name": "python",
   "nbconvert_exporter": "python",
   "pygments_lexer": "ipython3",
   "version": "3.13.5"
  },
  "toc": {
   "base_numbering": 1,
   "nav_menu": {},
   "number_sections": true,
   "sideBar": true,
   "skip_h1_title": false,
   "title_cell": "Table of Contents",
   "title_sidebar": "Contents",
   "toc_cell": false,
   "toc_position": {},
   "toc_section_display": true,
   "toc_window_display": false
  }
 },
 "nbformat": 4,
 "nbformat_minor": 5
}
