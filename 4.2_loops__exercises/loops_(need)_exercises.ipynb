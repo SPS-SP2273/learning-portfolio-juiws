{
 "cells": [
  {
   "attachments": {},
   "cell_type": "markdown",
   "id": "123456",
   "metadata": {},
   "source": [
    "<div style=\"text-align:left;font-size:2em\"><span style=\"font-weight:bolder;font-size:1.25em\">SP2273 | Learning Portfolio</span><br><br><span style=\"font-weight:bold;color:darkred\">Loops (Need) Exercises</span></div>"
   ]
  },
  {
   "cell_type": "code",
   "execution_count": 13,
   "id": "ffb88ea1",
   "metadata": {},
   "outputs": [
    {
     "name": "stdout",
     "output_type": "stream",
     "text": [
      "(0, 32)\n",
      "(5, 41)\n",
      "(10, 50)\n",
      "(15, 59)\n",
      "(20, 68)\n",
      "(25, 77)\n",
      "(30, 86)\n",
      "(35, 95)\n",
      "(40, 104)\n",
      "(45, 113)\n",
      "(50, 122)\n"
     ]
    }
   ],
   "source": [
    "temperatures_celsius = [\n",
    "    0, 5, 10, 15, 20, 25,\n",
    "    30, 35, 40, 45, 50\n",
    "]\n",
    "\n",
    "import numpy as np\n",
    "\n",
    "C_np = np.array(temperatures_celsius)\n",
    "\n",
    "F_np = (C_np* 9/5) + 32\n",
    "\n",
    "for i in range(len(C_np)):\n",
    "    pair = (int(C_np[i]), int(F_np[i]))\n",
    "    print(pair)"
   ]
  },
  {
   "cell_type": "code",
   "execution_count": 28,
   "id": "e947858e",
   "metadata": {},
   "outputs": [
    {
     "name": "stdout",
     "output_type": "stream",
     "text": [
      "1: \t1\t2\t3\t4\t5\t\n",
      "\n",
      "2: \t2\t4\t6\t8\t10\t\n",
      "\n",
      "3: \t3\t6\t9\t12\t15\t\n",
      "\n",
      "4: \t4\t8\t12\t16\t20\t\n",
      "\n",
      "5: \t5\t10\t15\t20\t25\t\n",
      "\n"
     ]
    }
   ],
   "source": [
    "for index in range(1, 6):\n",
    "    print(f'{index}: ', end='\\t')\n",
    "    for multiple in range(1,6):\n",
    "        print(f'{index*multiple}', end='\\t')\n",
    "    print('\\n')"
   ]
  },
  {
   "cell_type": "code",
   "execution_count": 60,
   "id": "cb3b7141",
   "metadata": {},
   "outputs": [
    {
     "name": "stdout",
     "output_type": "stream",
     "text": [
      "Experiment  1: No. of Heads = 5\n",
      "Experiment  2: No. of Heads = 3\n",
      "Experiment  3: No. of Heads = 6\n",
      "Experiment  4: No. of Heads = 6\n",
      "Experiment  5: No. of Heads = 5\n",
      "Experiment  6: No. of Heads = 4\n",
      "Experiment  7: No. of Heads = 4\n",
      "Experiment  8: No. of Heads = 2\n",
      "Experiment  9: No. of Heads = 6\n",
      "Experiment  10: No. of Heads = 8\n"
     ]
    }
   ],
   "source": [
    "import numpy as np\n",
    "for no_exp in range(1,11):\n",
    "    no_heads = 0\n",
    "    ten_array = np.random.rand(10) \n",
    "    result = ten_array > 0.5\n",
    "    no_heads = sum(result)\n",
    "    print(f\"Experiment  {no_exp}: No. of Heads = {no_heads}\")\n",
    "    \n"
   ]
  },
  {
   "cell_type": "code",
   "execution_count": null,
   "id": "e9779674",
   "metadata": {},
   "outputs": [],
   "source": []
  }
 ],
 "metadata": {
  "kernelspec": {
   "display_name": "base",
   "language": "python",
   "name": "python3"
  },
  "language_info": {
   "codemirror_mode": {
    "name": "ipython",
    "version": 3
   },
   "file_extension": ".py",
   "mimetype": "text/x-python",
   "name": "python",
   "nbconvert_exporter": "python",
   "pygments_lexer": "ipython3",
   "version": "3.13.5"
  },
  "toc": {
   "base_numbering": 1,
   "nav_menu": {},
   "number_sections": true,
   "sideBar": true,
   "skip_h1_title": false,
   "title_cell": "Table of Contents",
   "title_sidebar": "Contents",
   "toc_cell": false,
   "toc_position": {},
   "toc_section_display": true,
   "toc_window_display": false
  }
 },
 "nbformat": 4,
 "nbformat_minor": 5
}
