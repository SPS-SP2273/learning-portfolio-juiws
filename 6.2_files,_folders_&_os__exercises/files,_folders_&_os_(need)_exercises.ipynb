{
 "cells": [
  {
   "attachments": {},
   "cell_type": "markdown",
   "id": "123456",
   "metadata": {},
   "source": [
    "<div style=\"text-align:left;font-size:2em\"><span style=\"font-weight:bolder;font-size:1.25em\">SP2273 | Learning Portfolio</span><br><br><span style=\"font-weight:bold;color:darkred\">Files, Folders & OS (Need) Exercises</span></div>"
   ]
  },
  {
   "cell_type": "code",
   "execution_count": 6,
   "id": "59108a0d",
   "metadata": {},
   "outputs": [
    {
     "data": {
      "text/plain": [
       "'04-01_mel'"
      ]
     },
     "execution_count": 6,
     "metadata": {},
     "output_type": "execute_result"
    }
   ],
   "source": [
    "mn = {\n",
    "'jan': '01', 'feb': '02', 'mar': '03',\n",
    "'apr': '04', 'may': '05', 'jun': '06',\n",
    "'jul': '07', 'aug': '08', 'sep': '09',\n",
    "'oct': '10', 'nov': '11', 'dec': '12'\n",
    "}\n",
    "\n",
    "def month_to_number(mdc_txt):\n",
    "    num = mn[mdc_txt.split(\"-\")[0]]\n",
    "    ndc_txt = num + mdc_txt[3:]\n",
    "    return ndc_txt\n",
    "\n",
    "month_to_number(\"apr-01_mel\")"
   ]
  },
  {
   "cell_type": "code",
   "execution_count": 7,
   "id": "3afa5cb6",
   "metadata": {},
   "outputs": [],
   "source": [
    "def rename_my_file(old_file_name):\n",
    "    return  month_to_number(old_file_name)"
   ]
  },
  {
   "cell_type": "code",
   "execution_count": 8,
   "id": "dab946df",
   "metadata": {},
   "outputs": [
    {
     "name": "stdout",
     "output_type": "stream",
     "text": [
      "oct-08_singapore.txt ----> 10-08_singapore.txt\n",
      "jul-10_cairo.txt ----> 07-10_cairo.txt\n",
      "may-15_dhaka.txt ----> 05-15_dhaka.txt\n",
      "may-13_cairo.txt ----> 05-13_cairo.txt\n",
      "oct-21_cairo.txt ----> 10-21_cairo.txt\n",
      "jan-10_singapore.txt ----> 01-10_singapore.txt\n",
      "jun-20_tokyo.txt ----> 06-20_tokyo.txt\n",
      "aug-06_jakarta.txt ----> 08-06_jakarta.txt\n",
      "dec-21_karachi.txt ----> 12-21_karachi.txt\n",
      "jan-01_tokyo.txt ----> 01-01_tokyo.txt\n"
     ]
    }
   ],
   "source": [
    "file_list = ['oct-08_singapore.txt', 'jul-10_cairo.txt', 'may-15_dhaka.txt',\n",
    "'may-13_cairo.txt', 'oct-21_cairo.txt', 'jan-10_singapore.txt',\n",
    "'jun-20_tokyo.txt', 'aug-06_jakarta.txt', 'dec-21_karachi.txt',\n",
    "'jan-01_tokyo.txt']\n",
    "\n",
    "for file in file_list:\n",
    "    old_file = file\n",
    "    file = rename_my_file(file)\n",
    "    print(f\"{old_file} ----> {file}\")\n"
   ]
  },
  {
   "cell_type": "code",
   "execution_count": 13,
   "id": "aafe8ad1",
   "metadata": {},
   "outputs": [],
   "source": [
    "import glob\n",
    "import os\n",
    "import shutil"
   ]
  },
  {
   "cell_type": "code",
   "execution_count": 10,
   "id": "364ebe85",
   "metadata": {},
   "outputs": [],
   "source": [
    "for file in glob.glob('*'):\n",
    "    if type(file.split(\"-\")) == int:\n",
    "\n",
    "        rename_my_file(file)"
   ]
  },
  {
   "cell_type": "code",
   "execution_count": 11,
   "id": "8c36a15b",
   "metadata": {},
   "outputs": [],
   "source": [
    "country_list = ['Cairo', 'Dhaka', 'Jakarta', 'Karachi', 'Manila',\n",
    "'Melbourne', 'Osaka', 'Shanghai', 'Singapore', 'Tokyo']\n",
    "\n",
    "for country in country_list:\n",
    "    os.makedirs(country, exist_ok= True)\n",
    "    "
   ]
  },
  {
   "cell_type": "code",
   "execution_count": null,
   "id": "0006a665",
   "metadata": {},
   "outputs": [],
   "source": []
  },
  {
   "cell_type": "code",
   "execution_count": null,
   "id": "2e32acc0",
   "metadata": {},
   "outputs": [],
   "source": []
  },
  {
   "cell_type": "code",
   "execution_count": 12,
   "id": "d2b13bad",
   "metadata": {},
   "outputs": [
    {
     "name": "stdout",
     "output_type": "stream",
     "text": [
      "[]\n"
     ]
    }
   ],
   "source": [
    "cairo_file = glob.glob(r\"C:\\Users\\AcerA\\OneDrive\\Documents\\GitHub\\learning-portfolio-juiws\\6.1_files,_folders_&_os\\Files, Folders & OS (Need) – SPS Python Website_files\\os-collaboration-exercise-data.zip\\os-collaboration-exercise-data\\*cairo*\")\n",
    "print(cairo_file)"
   ]
  },
  {
   "cell_type": "code",
   "execution_count": 11,
   "id": "5f409acf",
   "metadata": {},
   "outputs": [
    {
     "name": "stdout",
     "output_type": "stream",
     "text": [
      "[]\n"
     ]
    }
   ],
   "source": [
    "files = glob.glob(r\"C:\\Users\\AcerA\\OneDrive\\Documents\\GitHub\\learning-portfolio-juiws\\6.1_files,_folders_&_os\\Files, Folders & OS (Need) – SPS Python Website_files\\os-collaboration-exercise-data.zip\\*Cairo*\", recursive=True)\n",
    "print(files)"
   ]
  },
  {
   "cell_type": "code",
   "execution_count": 5,
   "id": "15e3f564",
   "metadata": {},
   "outputs": [
    {
     "name": "stdout",
     "output_type": "stream",
     "text": [
      "[]\n"
     ]
    }
   ],
   "source": [
    "print(glob.glob(\"Cairo.txt\"))"
   ]
  },
  {
   "cell_type": "code",
   "execution_count": null,
   "id": "097c8a37",
   "metadata": {},
   "outputs": [],
   "source": []
  },
  {
   "cell_type": "code",
   "execution_count": 14,
   "id": "7f5acf4b",
   "metadata": {},
   "outputs": [
    {
     "ename": "SyntaxError",
     "evalue": "invalid syntax (3340073356.py, line 5)",
     "output_type": "error",
     "traceback": [
      "  \u001b[36mCell\u001b[39m\u001b[36m \u001b[39m\u001b[32mIn[14]\u001b[39m\u001b[32m, line 5\u001b[39m\n\u001b[31m    \u001b[39m\u001b[31mdesktop = r\"C:\\Users\\AcerA\\OneDrive\\Documents\\GitHub\\learning-portfolio-juiws\\6.1_files,_folders_&_os\\Files, Folders & OS (Need) – SPS Python Website_files\":\u001b[39m\n                                                                                                                                                                ^\n\u001b[31mSyntaxError\u001b[39m\u001b[31m:\u001b[39m invalid syntax\n"
     ]
    }
   ],
   "source": [
    "os.mkdir('cities_1')\n",
    "\n",
    "for city in ['Cairo', 'Dhaka', 'Jakarta', 'Karachi', 'Manila', 'Melbourne', 'Osaka', 'Shanghai', 'Singapore', 'Tokyo']:\n",
    "    path = os.path.join('cities', city)\n",
    "desktop = r\"C:\\Users\\AcerA\\OneDrive\\Documents\\GitHub\\learning-portfolio-juiws\\6.1_files,_folders_&_os\\Files, Folders & OS (Need) – SPS Python Website_files\":\n",
    "\n",
    "for file in desktop:\n",
    "    file_origin = file.split('_')[1]\n",
    "    if file_origin in city:\n",
    "        shutil.copy(file, os.path.join(desktop, city, file))\n"
   ]
  }
 ],
 "metadata": {
  "kernelspec": {
   "display_name": "base",
   "language": "python",
   "name": "python3"
  },
  "language_info": {
   "codemirror_mode": {
    "name": "ipython",
    "version": 3
   },
   "file_extension": ".py",
   "mimetype": "text/x-python",
   "name": "python",
   "nbconvert_exporter": "python",
   "pygments_lexer": "ipython3",
   "version": "3.13.5"
  },
  "toc": {
   "base_numbering": 1,
   "nav_menu": {},
   "number_sections": true,
   "sideBar": true,
   "skip_h1_title": false,
   "title_cell": "Table of Contents",
   "title_sidebar": "Contents",
   "toc_cell": false,
   "toc_position": {},
   "toc_section_display": true,
   "toc_window_display": false
  }
 },
 "nbformat": 4,
 "nbformat_minor": 5
}
