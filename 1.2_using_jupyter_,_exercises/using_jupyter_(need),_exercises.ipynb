{
 "cells": [
  {
   "attachments": {},
   "cell_type": "markdown",
   "id": "123456",
   "metadata": {},
   "source": [
    "<div style=\"text-align:left;font-size:2em\"><span style=\"font-weight:bolder;font-size:1.25em\">SP2273 | Learning Portfolio</span><br><br><span style=\"font-weight:bold;color:darkred\">Using Jupyter (Need), Exercises</span></div>"
   ]
  },
  {
   "attachments": {},
   "cell_type": "markdown",
   "id": "123456",
   "metadata": {},
   "source": [
    "## 1 Quadratic Equations"
   ]
  },
  {
   "attachments": {},
   "cell_type": "markdown",
   "id": "123456",
   "metadata": {},
   "source": [
    "### Introduction"
   ]
  },
  {
   "cell_type": "markdown",
   "id": "123456",
   "metadata": {},
   "source": [
    "![](https://upload.wikimedia.org/wikipedia/commons/thumb/f/f8/Polynomialdeg2.svg/480px-Polynomialdeg2.svg.png)\n",
    "\n",
    "(*Image from the* [*Wikipedia page on Quadratic equations*](https://en.wikipedia.org/wiki/Quadratic_equation))\n",
    "\n",
    "The general form of a quadratic equation is:\n",
    "$$ax^2 +bx +c = 0$$"
   ]
  },
  {
   "attachments": {},
   "cell_type": "markdown",
   "id": "123456",
   "metadata": {},
   "source": [
    "### Solutions"
   ]
  },
  {
   "cell_type": "markdown",
   "id": "123456",
   "metadata": {},
   "source": [
    "Provided $a \\not= 0$, we can use an elementary algebraic method called [completing the square](https://en.wikipedia.org/wiki/Completing_the_square) to show that a quadratic equation has the following solution:\n",
    "\n",
    "$$ x = \\frac{-b \\pm \\sqrt{b^2 - 4ac}}{2a} $$\n"
   ]
  },
  {
   "attachments": {},
   "cell_type": "markdown",
   "id": "123456",
   "metadata": {},
   "source": [
    "### Discriminant"
   ]
  },
  {
   "cell_type": "markdown",
   "id": "123456",
   "metadata": {},
   "source": [
    "The quantity $\\Delta = b^2 - 4ac$ is called the **discriminant** of the equation and decides the nature of its solutions. The table below shows the various possibilities.\n",
    "\n",
    "| **Discriminant**              | **Roots**                                           |\n",
    "|----|------------------------------------------|\n",
    "| $\\Delta = b^2 - 4ac = 0$       | A single solution of $-\\frac{b}{2a}$                |\n",
    "| $\\Delta = b^2 - 4ac > 0$       | Two distinct solutions                              |\n",
    "| $\\Delta = b^2 - 4ac < 0$       | No real solutions; both are complex.               |\n",
    "\n",
    "\n",
    "\n",
    ">\n",
    "\n",
    "\n"
   ]
  },
  {
   "cell_type": "markdown",
   "id": "80ac41f2",
   "metadata": {},
   "source": [
    "# Excercise 2"
   ]
  },
  {
   "cell_type": "markdown",
   "id": "80b65c6f",
   "metadata": {},
   "source": [
    "### 1. WHat is a Git repository?"
   ]
  },
  {
   "cell_type": "markdown",
   "id": "0d1c437a",
   "metadata": {},
   "source": [
    "A git repository is something to upload our things for everyone to see"
   ]
  },
  {
   "cell_type": "markdown",
   "id": "df9f8135",
   "metadata": {},
   "source": [
    "###  2. Git keeps track of \\_\\_BLANK\\_\\_ in the files in our repository"
   ]
  },
  {
   "cell_type": "markdown",
   "id": "10ddf8f3",
   "metadata": {},
   "source": [
    "keeps track of CHANGES\n",
    "\n",
    "### 3. What is a __commit__?\n",
    "\n",
    "Commit is to publish our changes for those with access to can view\n",
    "\n",
    "### 4.  What is a push?\n",
    "\n",
    "Push is when u committed the changes\n",
    "\n",
    "### 5. what is a pull?\n",
    "\n",
    "Pull is the oppodite where u take back ur work so it went back to the previous unedited version\n",
    "\n",
    "### 6. what is the differenfce between Github and Github desktop\n",
    "\n",
    "github is for the general community but github desktop u can be in a group to release ur repositories to\n",
    "\n",
    "\n",
    "\n",
    "\n",
    "\n"
   ]
  },
  {
   "cell_type": "markdown",
   "id": "0a1ab079",
   "metadata": {},
   "source": [
    "\n",
    "$$\\mu = \\frac{1}{n} \\sum_{i = 1}^{n}{x_i}$$\n",
    "\n",
    "\n"
   ]
  },
  {
   "cell_type": "markdown",
   "id": "bbb80a5f",
   "metadata": {},
   "source": [
    "$$ \\sigma = \\sqrt{ \\frac{1}{n} \\sum_{i = 1}^{n}{(x_i - \\mu)^2}} $$"
   ]
  },
  {
   "cell_type": "markdown",
   "id": "3d36b126",
   "metadata": {},
   "source": [
    "$$ r = \\frac{\\sum_{i=1}^{n}{(x_i-\\mu x)(y_i - \\mu\\gamma)}}{\\sum_{i = 1}^{n}{(x_i - \\mu x)^2 \\sum_{i = 1}^{n}{(y_i - \\mu\\gamma)^2) }}} $$"
   ]
  }
 ],
 "metadata": {
  "kernelspec": {
   "display_name": "Python 3",
   "language": "python",
   "name": "python3"
  },
  "language_info": {
   "codemirror_mode": {
    "name": "ipython",
    "version": 3
   },
   "file_extension": ".py",
   "mimetype": "text/x-python",
   "name": "python",
   "nbconvert_exporter": "python",
   "pygments_lexer": "ipython3",
   "version": "3.10.6 (main, Nov 14 2022, 16:10:14) [GCC 11.3.0]"
  },
  "toc": {
   "base_numbering": 1,
   "nav_menu": {},
   "number_sections": true,
   "sideBar": true,
   "skip_h1_title": false,
   "title_cell": "Table of Contents",
   "title_sidebar": "Contents",
   "toc_cell": false,
   "toc_position": {},
   "toc_section_display": true,
   "toc_window_display": false
  },
  "vscode": {
   "interpreter": {
    "hash": "31f2aee4e71d21fbe5cf8b01ff0e069b9275f58929596ceb00d14d90e3e16cd6"
   }
  }
 },
 "nbformat": 4,
 "nbformat_minor": 5
}
